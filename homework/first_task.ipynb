{
 "cells": [
  {
   "cell_type": "markdown",
   "id": "d813a1b7",
   "metadata": {},
   "source": [
    "# 1. Как вы кратко охарактеризуете датасет, про что он?"
   ]
  },
  {
   "cell_type": "markdown",
   "id": "27f9a56a",
   "metadata": {},
   "source": [
    "Подключу библиотеки, которые пригодятся мне в ходе выполнения домашней работы. "
   ]
  },
  {
   "cell_type": "code",
   "execution_count": 168,
   "id": "0d93af70",
   "metadata": {},
   "outputs": [],
   "source": [
    "import numpy as np\n",
    "import pandas as pd\n",
    "import matplotlib.pyplot as plt\n",
    "from statsmodels import robust\n",
    "import seaborn as sns"
   ]
  },
  {
   "cell_type": "markdown",
   "id": "8bccecd4",
   "metadata": {},
   "source": [
    "Предварительно скачаю csv файл с необходимыми данными и помещу его в объект dataset с помощью встроенных методов библиотеки pandas"
   ]
  },
  {
   "cell_type": "code",
   "execution_count": 14,
   "id": "fb3813fe",
   "metadata": {},
   "outputs": [
    {
     "data": {
      "text/html": [
       "<div>\n",
       "<style scoped>\n",
       "    .dataframe tbody tr th:only-of-type {\n",
       "        vertical-align: middle;\n",
       "    }\n",
       "\n",
       "    .dataframe tbody tr th {\n",
       "        vertical-align: top;\n",
       "    }\n",
       "\n",
       "    .dataframe thead th {\n",
       "        text-align: right;\n",
       "    }\n",
       "</style>\n",
       "<table border=\"1\" class=\"dataframe\">\n",
       "  <thead>\n",
       "    <tr style=\"text-align: right;\">\n",
       "      <th></th>\n",
       "      <th>App Name</th>\n",
       "      <th>App Id</th>\n",
       "      <th>Category</th>\n",
       "      <th>Rating</th>\n",
       "      <th>Rating Count</th>\n",
       "      <th>Installs</th>\n",
       "      <th>Minimum Installs</th>\n",
       "      <th>Maximum Installs</th>\n",
       "      <th>Free</th>\n",
       "      <th>Price</th>\n",
       "      <th>...</th>\n",
       "      <th>Developer Website</th>\n",
       "      <th>Developer Email</th>\n",
       "      <th>Released</th>\n",
       "      <th>Last Updated</th>\n",
       "      <th>Content Rating</th>\n",
       "      <th>Privacy Policy</th>\n",
       "      <th>Ad Supported</th>\n",
       "      <th>In App Purchases</th>\n",
       "      <th>Editors Choice</th>\n",
       "      <th>Scraped Time</th>\n",
       "    </tr>\n",
       "  </thead>\n",
       "  <tbody>\n",
       "    <tr>\n",
       "      <th>0</th>\n",
       "      <td>Gakondo</td>\n",
       "      <td>com.ishakwe.gakondo</td>\n",
       "      <td>Adventure</td>\n",
       "      <td>0.0</td>\n",
       "      <td>0.0</td>\n",
       "      <td>10+</td>\n",
       "      <td>10.0</td>\n",
       "      <td>15</td>\n",
       "      <td>True</td>\n",
       "      <td>0.0</td>\n",
       "      <td>...</td>\n",
       "      <td>https://beniyizibyose.tk/#/</td>\n",
       "      <td>jean21101999@gmail.com</td>\n",
       "      <td>Feb 26, 2020</td>\n",
       "      <td>Feb 26, 2020</td>\n",
       "      <td>Everyone</td>\n",
       "      <td>https://beniyizibyose.tk/projects/</td>\n",
       "      <td>False</td>\n",
       "      <td>False</td>\n",
       "      <td>False</td>\n",
       "      <td>2021-06-15 20:19:35</td>\n",
       "    </tr>\n",
       "    <tr>\n",
       "      <th>1</th>\n",
       "      <td>Ampere Battery Info</td>\n",
       "      <td>com.webserveis.batteryinfo</td>\n",
       "      <td>Tools</td>\n",
       "      <td>4.4</td>\n",
       "      <td>64.0</td>\n",
       "      <td>5,000+</td>\n",
       "      <td>5000.0</td>\n",
       "      <td>7662</td>\n",
       "      <td>True</td>\n",
       "      <td>0.0</td>\n",
       "      <td>...</td>\n",
       "      <td>https://webserveis.netlify.app/</td>\n",
       "      <td>webserveis@gmail.com</td>\n",
       "      <td>May 21, 2020</td>\n",
       "      <td>May 06, 2021</td>\n",
       "      <td>Everyone</td>\n",
       "      <td>https://dev4phones.wordpress.com/licencia-de-uso/</td>\n",
       "      <td>True</td>\n",
       "      <td>False</td>\n",
       "      <td>False</td>\n",
       "      <td>2021-06-15 20:19:35</td>\n",
       "    </tr>\n",
       "    <tr>\n",
       "      <th>2</th>\n",
       "      <td>Vibook</td>\n",
       "      <td>com.doantiepvien.crm</td>\n",
       "      <td>Productivity</td>\n",
       "      <td>0.0</td>\n",
       "      <td>0.0</td>\n",
       "      <td>50+</td>\n",
       "      <td>50.0</td>\n",
       "      <td>58</td>\n",
       "      <td>True</td>\n",
       "      <td>0.0</td>\n",
       "      <td>...</td>\n",
       "      <td>NaN</td>\n",
       "      <td>vnacrewit@gmail.com</td>\n",
       "      <td>Aug 9, 2019</td>\n",
       "      <td>Aug 19, 2019</td>\n",
       "      <td>Everyone</td>\n",
       "      <td>https://www.vietnamairlines.com/vn/en/terms-an...</td>\n",
       "      <td>False</td>\n",
       "      <td>False</td>\n",
       "      <td>False</td>\n",
       "      <td>2021-06-15 20:19:35</td>\n",
       "    </tr>\n",
       "    <tr>\n",
       "      <th>3</th>\n",
       "      <td>Smart City Trichy Public Service Vehicles 17UC...</td>\n",
       "      <td>cst.stJoseph.ug17ucs548</td>\n",
       "      <td>Communication</td>\n",
       "      <td>5.0</td>\n",
       "      <td>5.0</td>\n",
       "      <td>10+</td>\n",
       "      <td>10.0</td>\n",
       "      <td>19</td>\n",
       "      <td>True</td>\n",
       "      <td>0.0</td>\n",
       "      <td>...</td>\n",
       "      <td>http://www.climatesmarttech.com/</td>\n",
       "      <td>climatesmarttech2@gmail.com</td>\n",
       "      <td>Sep 10, 2018</td>\n",
       "      <td>Oct 13, 2018</td>\n",
       "      <td>Everyone</td>\n",
       "      <td>NaN</td>\n",
       "      <td>True</td>\n",
       "      <td>False</td>\n",
       "      <td>False</td>\n",
       "      <td>2021-06-15 20:19:35</td>\n",
       "    </tr>\n",
       "    <tr>\n",
       "      <th>4</th>\n",
       "      <td>GROW.me</td>\n",
       "      <td>com.horodyski.grower</td>\n",
       "      <td>Tools</td>\n",
       "      <td>0.0</td>\n",
       "      <td>0.0</td>\n",
       "      <td>100+</td>\n",
       "      <td>100.0</td>\n",
       "      <td>478</td>\n",
       "      <td>True</td>\n",
       "      <td>0.0</td>\n",
       "      <td>...</td>\n",
       "      <td>http://www.horodyski.com.pl</td>\n",
       "      <td>rmilekhorodyski@gmail.com</td>\n",
       "      <td>Feb 21, 2020</td>\n",
       "      <td>Nov 12, 2018</td>\n",
       "      <td>Everyone</td>\n",
       "      <td>http://www.horodyski.com.pl</td>\n",
       "      <td>False</td>\n",
       "      <td>False</td>\n",
       "      <td>False</td>\n",
       "      <td>2021-06-15 20:19:35</td>\n",
       "    </tr>\n",
       "    <tr>\n",
       "      <th>...</th>\n",
       "      <td>...</td>\n",
       "      <td>...</td>\n",
       "      <td>...</td>\n",
       "      <td>...</td>\n",
       "      <td>...</td>\n",
       "      <td>...</td>\n",
       "      <td>...</td>\n",
       "      <td>...</td>\n",
       "      <td>...</td>\n",
       "      <td>...</td>\n",
       "      <td>...</td>\n",
       "      <td>...</td>\n",
       "      <td>...</td>\n",
       "      <td>...</td>\n",
       "      <td>...</td>\n",
       "      <td>...</td>\n",
       "      <td>...</td>\n",
       "      <td>...</td>\n",
       "      <td>...</td>\n",
       "      <td>...</td>\n",
       "      <td>...</td>\n",
       "    </tr>\n",
       "    <tr>\n",
       "      <th>2312939</th>\n",
       "      <td>大俠客—熱血歸來</td>\n",
       "      <td>com.rxsj.ssjj</td>\n",
       "      <td>Role Playing</td>\n",
       "      <td>4.3</td>\n",
       "      <td>16775.0</td>\n",
       "      <td>100,000+</td>\n",
       "      <td>100000.0</td>\n",
       "      <td>337109</td>\n",
       "      <td>True</td>\n",
       "      <td>0.0</td>\n",
       "      <td>...</td>\n",
       "      <td>http://www.4399sy.com.hk/</td>\n",
       "      <td>ssjjcomhk@gmail.com</td>\n",
       "      <td>NaN</td>\n",
       "      <td>Jun 01, 2021</td>\n",
       "      <td>Teen</td>\n",
       "      <td>http://a.4399sy.com.hk/user/aggreement</td>\n",
       "      <td>False</td>\n",
       "      <td>False</td>\n",
       "      <td>False</td>\n",
       "      <td>2021-06-16 12:59:18</td>\n",
       "    </tr>\n",
       "    <tr>\n",
       "      <th>2312940</th>\n",
       "      <td>ORU Online</td>\n",
       "      <td>com.threedream.oruonline</td>\n",
       "      <td>Education</td>\n",
       "      <td>0.0</td>\n",
       "      <td>0.0</td>\n",
       "      <td>100+</td>\n",
       "      <td>100.0</td>\n",
       "      <td>430</td>\n",
       "      <td>True</td>\n",
       "      <td>0.0</td>\n",
       "      <td>...</td>\n",
       "      <td>http://www.oru.edu/</td>\n",
       "      <td>3DreamDeveloper@gmail.com</td>\n",
       "      <td>Jan 17, 2018</td>\n",
       "      <td>Feb 02, 2018</td>\n",
       "      <td>Everyone</td>\n",
       "      <td>http://www.oru.edu/about-oru/privacy-policy.php</td>\n",
       "      <td>False</td>\n",
       "      <td>False</td>\n",
       "      <td>False</td>\n",
       "      <td>2021-06-16 12:59:19</td>\n",
       "    </tr>\n",
       "    <tr>\n",
       "      <th>2312941</th>\n",
       "      <td>Data Structure</td>\n",
       "      <td>datastructure.appoworld.datastucture</td>\n",
       "      <td>Education</td>\n",
       "      <td>0.0</td>\n",
       "      <td>0.0</td>\n",
       "      <td>100+</td>\n",
       "      <td>100.0</td>\n",
       "      <td>202</td>\n",
       "      <td>True</td>\n",
       "      <td>0.0</td>\n",
       "      <td>...</td>\n",
       "      <td>NaN</td>\n",
       "      <td>appoworld.official@gmail.com</td>\n",
       "      <td>Aug 19, 2018</td>\n",
       "      <td>Aug 19, 2018</td>\n",
       "      <td>Everyone</td>\n",
       "      <td>https://appoworld.000webhostapp.com/datastruct...</td>\n",
       "      <td>False</td>\n",
       "      <td>False</td>\n",
       "      <td>False</td>\n",
       "      <td>2021-06-16 12:59:19</td>\n",
       "    </tr>\n",
       "    <tr>\n",
       "      <th>2312942</th>\n",
       "      <td>Devi Suktam</td>\n",
       "      <td>ishan.devi.suktam</td>\n",
       "      <td>Music &amp; Audio</td>\n",
       "      <td>3.5</td>\n",
       "      <td>8.0</td>\n",
       "      <td>1,000+</td>\n",
       "      <td>1000.0</td>\n",
       "      <td>2635</td>\n",
       "      <td>True</td>\n",
       "      <td>0.0</td>\n",
       "      <td>...</td>\n",
       "      <td>https://a70f78905.app-ads-txt.com</td>\n",
       "      <td>ruchisono@gmail.com</td>\n",
       "      <td>Aug 1, 2016</td>\n",
       "      <td>May 05, 2021</td>\n",
       "      <td>Everyone</td>\n",
       "      <td>https://docs.google.com/document/d/1x-9reZuLRX...</td>\n",
       "      <td>True</td>\n",
       "      <td>False</td>\n",
       "      <td>False</td>\n",
       "      <td>2021-06-16 12:59:19</td>\n",
       "    </tr>\n",
       "    <tr>\n",
       "      <th>2312943</th>\n",
       "      <td>Biliyor Musun - Sonsuz Yarış</td>\n",
       "      <td>com.yyazilim.biliyormusun</td>\n",
       "      <td>Trivia</td>\n",
       "      <td>5.0</td>\n",
       "      <td>12.0</td>\n",
       "      <td>100+</td>\n",
       "      <td>100.0</td>\n",
       "      <td>354</td>\n",
       "      <td>True</td>\n",
       "      <td>0.0</td>\n",
       "      <td>...</td>\n",
       "      <td>NaN</td>\n",
       "      <td>yyazilimdevelop@gmail.com</td>\n",
       "      <td>Aug 9, 2019</td>\n",
       "      <td>Aug 19, 2019</td>\n",
       "      <td>Everyone</td>\n",
       "      <td>https://biliyor-musun-sons.flycricket.io/priva...</td>\n",
       "      <td>True</td>\n",
       "      <td>False</td>\n",
       "      <td>False</td>\n",
       "      <td>2021-06-16 12:59:19</td>\n",
       "    </tr>\n",
       "  </tbody>\n",
       "</table>\n",
       "<p>2312944 rows × 24 columns</p>\n",
       "</div>"
      ],
      "text/plain": [
       "                                                  App Name  \\\n",
       "0                                                  Gakondo   \n",
       "1                                      Ampere Battery Info   \n",
       "2                                                   Vibook   \n",
       "3        Smart City Trichy Public Service Vehicles 17UC...   \n",
       "4                                                  GROW.me   \n",
       "...                                                    ...   \n",
       "2312939                                           大俠客—熱血歸來   \n",
       "2312940                                         ORU Online   \n",
       "2312941                                     Data Structure   \n",
       "2312942                                        Devi Suktam   \n",
       "2312943                       Biliyor Musun - Sonsuz Yarış   \n",
       "\n",
       "                                       App Id       Category  Rating  \\\n",
       "0                         com.ishakwe.gakondo      Adventure     0.0   \n",
       "1                  com.webserveis.batteryinfo          Tools     4.4   \n",
       "2                        com.doantiepvien.crm   Productivity     0.0   \n",
       "3                     cst.stJoseph.ug17ucs548  Communication     5.0   \n",
       "4                        com.horodyski.grower          Tools     0.0   \n",
       "...                                       ...            ...     ...   \n",
       "2312939                         com.rxsj.ssjj   Role Playing     4.3   \n",
       "2312940              com.threedream.oruonline      Education     0.0   \n",
       "2312941  datastructure.appoworld.datastucture      Education     0.0   \n",
       "2312942                     ishan.devi.suktam  Music & Audio     3.5   \n",
       "2312943             com.yyazilim.biliyormusun         Trivia     5.0   \n",
       "\n",
       "         Rating Count  Installs  Minimum Installs  Maximum Installs  Free  \\\n",
       "0                 0.0       10+              10.0                15  True   \n",
       "1                64.0    5,000+            5000.0              7662  True   \n",
       "2                 0.0       50+              50.0                58  True   \n",
       "3                 5.0       10+              10.0                19  True   \n",
       "4                 0.0      100+             100.0               478  True   \n",
       "...               ...       ...               ...               ...   ...   \n",
       "2312939       16775.0  100,000+          100000.0            337109  True   \n",
       "2312940           0.0      100+             100.0               430  True   \n",
       "2312941           0.0      100+             100.0               202  True   \n",
       "2312942           8.0    1,000+            1000.0              2635  True   \n",
       "2312943          12.0      100+             100.0               354  True   \n",
       "\n",
       "         Price  ...                  Developer Website  \\\n",
       "0          0.0  ...        https://beniyizibyose.tk/#/   \n",
       "1          0.0  ...    https://webserveis.netlify.app/   \n",
       "2          0.0  ...                                NaN   \n",
       "3          0.0  ...   http://www.climatesmarttech.com/   \n",
       "4          0.0  ...        http://www.horodyski.com.pl   \n",
       "...        ...  ...                                ...   \n",
       "2312939    0.0  ...          http://www.4399sy.com.hk/   \n",
       "2312940    0.0  ...                http://www.oru.edu/   \n",
       "2312941    0.0  ...                                NaN   \n",
       "2312942    0.0  ...  https://a70f78905.app-ads-txt.com   \n",
       "2312943    0.0  ...                                NaN   \n",
       "\n",
       "                      Developer Email      Released  Last Updated  \\\n",
       "0              jean21101999@gmail.com  Feb 26, 2020  Feb 26, 2020   \n",
       "1                webserveis@gmail.com  May 21, 2020  May 06, 2021   \n",
       "2                 vnacrewit@gmail.com   Aug 9, 2019  Aug 19, 2019   \n",
       "3         climatesmarttech2@gmail.com  Sep 10, 2018  Oct 13, 2018   \n",
       "4           rmilekhorodyski@gmail.com  Feb 21, 2020  Nov 12, 2018   \n",
       "...                               ...           ...           ...   \n",
       "2312939           ssjjcomhk@gmail.com           NaN  Jun 01, 2021   \n",
       "2312940     3DreamDeveloper@gmail.com  Jan 17, 2018  Feb 02, 2018   \n",
       "2312941  appoworld.official@gmail.com  Aug 19, 2018  Aug 19, 2018   \n",
       "2312942           ruchisono@gmail.com   Aug 1, 2016  May 05, 2021   \n",
       "2312943     yyazilimdevelop@gmail.com   Aug 9, 2019  Aug 19, 2019   \n",
       "\n",
       "        Content Rating                                     Privacy Policy  \\\n",
       "0             Everyone                 https://beniyizibyose.tk/projects/   \n",
       "1             Everyone  https://dev4phones.wordpress.com/licencia-de-uso/   \n",
       "2             Everyone  https://www.vietnamairlines.com/vn/en/terms-an...   \n",
       "3             Everyone                                                NaN   \n",
       "4             Everyone                        http://www.horodyski.com.pl   \n",
       "...                ...                                                ...   \n",
       "2312939           Teen             http://a.4399sy.com.hk/user/aggreement   \n",
       "2312940       Everyone    http://www.oru.edu/about-oru/privacy-policy.php   \n",
       "2312941       Everyone  https://appoworld.000webhostapp.com/datastruct...   \n",
       "2312942       Everyone  https://docs.google.com/document/d/1x-9reZuLRX...   \n",
       "2312943       Everyone  https://biliyor-musun-sons.flycricket.io/priva...   \n",
       "\n",
       "        Ad Supported In App Purchases Editors Choice         Scraped Time  \n",
       "0              False            False          False  2021-06-15 20:19:35  \n",
       "1               True            False          False  2021-06-15 20:19:35  \n",
       "2              False            False          False  2021-06-15 20:19:35  \n",
       "3               True            False          False  2021-06-15 20:19:35  \n",
       "4              False            False          False  2021-06-15 20:19:35  \n",
       "...              ...              ...            ...                  ...  \n",
       "2312939        False            False          False  2021-06-16 12:59:18  \n",
       "2312940        False            False          False  2021-06-16 12:59:19  \n",
       "2312941        False            False          False  2021-06-16 12:59:19  \n",
       "2312942         True            False          False  2021-06-16 12:59:19  \n",
       "2312943         True            False          False  2021-06-16 12:59:19  \n",
       "\n",
       "[2312944 rows x 24 columns]"
      ]
     },
     "execution_count": 14,
     "metadata": {},
     "output_type": "execute_result"
    }
   ],
   "source": [
    "data_name = \"C:\\\\Users\\\\arxie\\\\Desktop\\\\Google-Playstore.csv\"\n",
    "dataset = pd.read_csv(data_name)\n",
    "dataset"
   ]
  },
  {
   "cell_type": "markdown",
   "id": "84e976a4",
   "metadata": {},
   "source": [
    "Вытащю информацию о содержимом датафрейма с помощью метода info"
   ]
  },
  {
   "cell_type": "code",
   "execution_count": 15,
   "id": "2e48d5ff",
   "metadata": {},
   "outputs": [
    {
     "name": "stdout",
     "output_type": "stream",
     "text": [
      "<class 'pandas.core.frame.DataFrame'>\n",
      "RangeIndex: 2312944 entries, 0 to 2312943\n",
      "Data columns (total 24 columns):\n",
      " #   Column             Dtype  \n",
      "---  ------             -----  \n",
      " 0   App Name           object \n",
      " 1   App Id             object \n",
      " 2   Category           object \n",
      " 3   Rating             float64\n",
      " 4   Rating Count       float64\n",
      " 5   Installs           object \n",
      " 6   Minimum Installs   float64\n",
      " 7   Maximum Installs   int64  \n",
      " 8   Free               bool   \n",
      " 9   Price              float64\n",
      " 10  Currency           object \n",
      " 11  Size               object \n",
      " 12  Minimum Android    object \n",
      " 13  Developer Id       object \n",
      " 14  Developer Website  object \n",
      " 15  Developer Email    object \n",
      " 16  Released           object \n",
      " 17  Last Updated       object \n",
      " 18  Content Rating     object \n",
      " 19  Privacy Policy     object \n",
      " 20  Ad Supported       bool   \n",
      " 21  In App Purchases   bool   \n",
      " 22  Editors Choice     bool   \n",
      " 23  Scraped Time       object \n",
      "dtypes: bool(4), float64(4), int64(1), object(15)\n",
      "memory usage: 361.8+ MB\n"
     ]
    }
   ],
   "source": [
    "dataset.info()"
   ]
  },
  {
   "cell_type": "markdown",
   "id": "73d0f798",
   "metadata": {},
   "source": [
    "__Ответ: Данный датасет содержит информацию о приложениях из Google Play Store за июнь 2021 года. В него включены по 24 характеристики для каждого приложения с информацией разного типа. Датасет содержит свыше двух миллионов уникальных значений.__\n"
   ]
  },
  {
   "cell_type": "markdown",
   "id": "203dc646",
   "metadata": {},
   "source": [
    "# 2.Сколько в среднем скачиваний у приложение в выборке?"
   ]
  },
  {
   "cell_type": "markdown",
   "id": "3599f58c",
   "metadata": {},
   "source": [
    "Проверю наличие пустых значений"
   ]
  },
  {
   "cell_type": "code",
   "execution_count": 41,
   "id": "40045453",
   "metadata": {},
   "outputs": [
    {
     "data": {
      "text/plain": [
       "App Name                  2\n",
       "App Id                    0\n",
       "Category                  0\n",
       "Rating                22883\n",
       "Rating Count          22883\n",
       "Installs                107\n",
       "Minimum Installs        107\n",
       "Maximum Installs          0\n",
       "Free                      0\n",
       "Price                     0\n",
       "Currency                135\n",
       "Size                    196\n",
       "Minimum Android        6530\n",
       "Developer Id             33\n",
       "Developer Website    760835\n",
       "Developer Email          31\n",
       "Released              71053\n",
       "Last Updated              0\n",
       "Content Rating            0\n",
       "Privacy Policy       420953\n",
       "Ad Supported              0\n",
       "In App Purchases          0\n",
       "Editors Choice            0\n",
       "Scraped Time              0\n",
       "dtype: int64"
      ]
     },
     "execution_count": 41,
     "metadata": {},
     "output_type": "execute_result"
    }
   ],
   "source": [
    "dataset.isna().sum()"
   ]
  },
  {
   "cell_type": "markdown",
   "id": "479f9b23",
   "metadata": {},
   "source": [
    "### Пустые значения присутствуют.\n",
    "Выделю критические важные столбцы -- App name, Category, Rating, Rating Count, Minimum Intalls, Maximum Installs, Price. В столбцах, где в качестве значений используются объекты, удалю строки с не заданным значением. В столбцах, где используются в качестве значений числа -- занулю соответствующие данные."
   ]
  },
  {
   "cell_type": "code",
   "execution_count": 45,
   "id": "2b1f185b",
   "metadata": {},
   "outputs": [
    {
     "data": {
      "text/plain": [
       "App Name                  0\n",
       "App Id                    0\n",
       "Category                  0\n",
       "Rating                    0\n",
       "Rating Count              0\n",
       "Installs                107\n",
       "Minimum Installs          0\n",
       "Maximum Installs          0\n",
       "Free                      0\n",
       "Price                     0\n",
       "Currency                135\n",
       "Size                    196\n",
       "Minimum Android        6530\n",
       "Developer Id             33\n",
       "Developer Website    760834\n",
       "Developer Email          31\n",
       "Released              71053\n",
       "Last Updated              0\n",
       "Content Rating            0\n",
       "Privacy Policy       420952\n",
       "Ad Supported              0\n",
       "In App Purchases          0\n",
       "Editors Choice            0\n",
       "Scraped Time              0\n",
       "dtype: int64"
      ]
     },
     "execution_count": 45,
     "metadata": {},
     "output_type": "execute_result"
    }
   ],
   "source": [
    "critical_columns_categorial = [\"App Name\", \"Category\" ]\n",
    "critical_colums_numeric = [\"Rating\", \"Rating Count\", \"Minimum Installs\", \"Maximum Installs\", \"Price\"]\n",
    "dataset[critical_colums_numeric] = dataset[critical_colums_numeric].fillna(0)\n",
    "dataset = dataset.dropna(subset=critical_columns_categorial)\n",
    "dataset.isna().sum()"
   ]
  },
  {
   "cell_type": "markdown",
   "id": "7a17f46e",
   "metadata": {},
   "source": [
    "Пустые ячейки удалены.\n",
    "\n",
    "Теперь можно начать обрабатывать сам датафрейм, так как ситуация с неопределенным поведением из-за неизвестного наполнения ячейки и смазанным результатом из-за неккоретной выборки предотвращена. "
   ]
  },
  {
   "cell_type": "code",
   "execution_count": 49,
   "id": "3883fc4f",
   "metadata": {},
   "outputs": [
    {
     "name": "stdout",
     "output_type": "stream",
     "text": [
      "183436  -- среднее минимальное количество скачиваний\n",
      "320201  -- среднее максимальное количество скачиваний\n",
      "251819  -- среднее количество скачиваний\n"
     ]
    }
   ],
   "source": [
    "print(int(dataset[\"Minimum Installs\"].mean()),\" -- среднее минимальное количество скачиваний\")\n",
    "print(int(dataset[\"Maximum Installs\"].mean()), \" -- среднее максимальное количество скачиваний\")\n",
    "print(int((dataset[\"Minimum Installs\"].mean() + dataset[\"Maximum Installs\"].mean()) / 2), \" -- среднее количество скачиваний\")"
   ]
  },
  {
   "cell_type": "markdown",
   "id": "96bcd03f",
   "metadata": {},
   "source": [
    "**Ответ : в среднем у данной выборки приложений 251 819 скачиваний**"
   ]
  },
  {
   "cell_type": "markdown",
   "id": "50204f5c",
   "metadata": {},
   "source": [
    "# 3. Cколько в среднем стоят приложения в выборке?"
   ]
  },
  {
   "cell_type": "markdown",
   "id": "70948430",
   "metadata": {},
   "source": [
    "Сделаю два результата — средняя стоимость с учетом бесплатных приложений и средняя стоимость без их учета."
   ]
  },
  {
   "cell_type": "code",
   "execution_count": 95,
   "id": "2fb4b431",
   "metadata": {},
   "outputs": [
    {
     "name": "stdout",
     "output_type": "stream",
     "text": [
      "Средняя стоимость приложений с учетом бесплатных — 0.1034992478\n"
     ]
    }
   ],
   "source": [
    "print(\"Средняя стоимость приложений с учетом бесплатных — {:.10}\".format(dataset[\"Price\"].mean()))"
   ]
  },
  {
   "cell_type": "markdown",
   "id": "39192f49",
   "metadata": {},
   "source": [
    "1. Попробую первый способ для выяснения платных приложений — сделаю поиск среднего значения поля *Price* среди массива значений, где маска принимает значение 1, в качестве маски -- проверка поля *Free* на значение *False*"
   ]
  },
  {
   "cell_type": "code",
   "execution_count": 92,
   "id": "a6125df1",
   "metadata": {},
   "outputs": [
    {
     "name": "stdout",
     "output_type": "stream",
     "text": [
      "Средняя стоимость приложений без учета бесплатных — 5.3117014\n"
     ]
    }
   ],
   "source": [
    "print(\"Средняя стоимость приложений без учета бесплатных — {:.8}\".format(dataset[\"Price\"][dataset[\"Free\"] == 0].mean()))"
   ]
  },
  {
   "cell_type": "markdown",
   "id": "5ca586cb",
   "metadata": {},
   "source": [
    "2. Попробую второй способ — вытащу данные из цены из серии, где поле *Free* принимает значение False c помощью встроенного метода *loc*"
   ]
  },
  {
   "cell_type": "code",
   "execution_count": 94,
   "id": "4c0f04d7",
   "metadata": {},
   "outputs": [
    {
     "name": "stdout",
     "output_type": "stream",
     "text": [
      "Средняя стоимость приложений без учета бесплатных — 5.3117014\n"
     ]
    }
   ],
   "source": [
    "print(\"Средняя стоимость приложений без учета бесплатных — {:.8}\".format((dataset.loc[~dataset[\"Free\"], \"Price\"]).mean()))"
   ]
  },
  {
   "cell_type": "markdown",
   "id": "638679b7",
   "metadata": {},
   "source": [
    "### Ответ:\n",
    "    средняя стоимость приложений с учетом бесплатных — 0.1034992478 $\n",
    "средняя стоимость приложений без учета бесплатных — 5.3117014 $"
   ]
  },
  {
   "cell_type": "markdown",
   "id": "ecfe5c23",
   "metadata": {},
   "source": [
    "# 4. Как распределены данные по скачиваниям?"
   ]
  },
  {
   "cell_type": "markdown",
   "id": "39a33bcd",
   "metadata": {},
   "source": [
    "Определю стандартное отклонение от средних значений"
   ]
  },
  {
   "cell_type": "code",
   "execution_count": 107,
   "id": "8cf93b6b",
   "metadata": {},
   "outputs": [
    {
     "data": {
      "text/plain": [
       "15131095.647410527"
      ]
     },
     "execution_count": 107,
     "metadata": {},
     "output_type": "execute_result"
    }
   ],
   "source": [
    "dataset.std(numeric_only=True)[\"Minimum Installs\"]\n",
    "#robust.scale.mad(dataset[\"Minimum Installs\"])"
   ]
  },
  {
   "cell_type": "markdown",
   "id": "52a9ab9a",
   "metadata": {},
   "source": [
    "Данные в датасете распределены неравномерно.\n",
    "\n",
    "Выведу в виде графика 40 наиболее встречающихся значений и отсортирую их по количеству информации в них\n",
    "\n",
    "метод **value_counts** подсчитывает количество уникальных значений в столбце и сортирует их. **nlargest** выведет 40 наибольших вариантов, а **sort_index** отсортирует их по индексу"
   ]
  },
  {
   "cell_type": "code",
   "execution_count": 124,
   "id": "23d820ec",
   "metadata": {},
   "outputs": [
    {
     "data": {
      "image/png": "[encoded data removed]",
      "text/plain": [
       "<Figure size 1080x360 with 1 Axes>"
      ]
     },
     "metadata": {
      "needs_background": "light"
     },
     "output_type": "display_data"
    }
   ],
   "source": [
    "sorted_max_installs = dataset[\"Minimum Installs\"].value_counts().nlargest(40).sort_index()\n",
    "sorted_max_installs.plot(kind='bar', figsize=(15,5))\n",
    "plt.xlabel('Значение столбца Minimum Installs')\n",
    "plt.ylabel('Количество cкачиваний')\n",
    "plt.title('Гистограмма распределения')\n",
    "plt.grid(axis = \"y\")\n",
    "plt.show()"
   ]
  },
  {
   "cell_type": "markdown",
   "id": "574ab891",
   "metadata": {},
   "source": [
    "### Ответ: Данные распределены неравномерно и об общей картине сложно судить, однака наибольшее количество приложений находится в интервале от 10 скачиваний, до 10 000"
   ]
  },
  {
   "cell_type": "markdown",
   "id": "545e9fba",
   "metadata": {},
   "source": [
    "# 5. Приложения каких категорий скачивают чаще всего?"
   ]
  },
  {
   "cell_type": "markdown",
   "id": "540ff22c",
   "metadata": {},
   "source": [
    "Сгруппирую данные с одинаковыми категориями, суммирую их значения и распределю по столбцам. Описываю так, будто это делать буду я, но за меня всю работу выполнит *Pandas*"
   ]
  },
  {
   "cell_type": "code",
   "execution_count": 133,
   "id": "db78040d",
   "metadata": {},
   "outputs": [],
   "source": [
    "category_and_downloads = dataset.groupby(\"Category\")[\"Maximum Installs\"].sum()"
   ]
  },
  {
   "cell_type": "code",
   "execution_count": 145,
   "id": "82af6a18",
   "metadata": {},
   "outputs": [
    {
     "data": {
      "text/plain": [
       "Category\n",
       "Action                      30742136749\n",
       "Adventure                    9818710287\n",
       "Arcade                      25681896219\n",
       "Art & Design                 1816298544\n",
       "Auto & Vehicles              3056222948\n",
       "Beauty                        711807155\n",
       "Board                        5281549210\n",
       "Books & Reference           10309375263\n",
       "Business                     8577785396\n",
       "Card                         3340899991\n",
       "Casino                       2222890889\n",
       "Casual                      30525269577\n",
       "Comics                        708237879\n",
       "Communication               72306404399\n",
       "Dating                       1298958503\n",
       "Education                   10814228456\n",
       "Educational                  8276809814\n",
       "Entertainment               32544902249\n",
       "Events                        140492465\n",
       "Finance                     11385454261\n",
       "Food & Drink                 2920080309\n",
       "Health & Fitness             8068396573\n",
       "House & Home                  888165701\n",
       "Libraries & Demo              595274491\n",
       "Lifestyle                   10293399960\n",
       "Maps & Navigation            4792013615\n",
       "Medical                      1097279936\n",
       "Music                        3261642266\n",
       "Music & Audio               23021925877\n",
       "News & Magazines             8824547668\n",
       "Parenting                     486012874\n",
       "Personalization             17477377333\n",
       "Photography                 31590959146\n",
       "Productivity                45368330480\n",
       "Puzzle                      19163779524\n",
       "Racing                      17093737289\n",
       "Role Playing                 8646146865\n",
       "Shopping                    13288289453\n",
       "Simulation                  19957063168\n",
       "Social                      32216881194\n",
       "Sports                      14177721735\n",
       "Strategy                     7691357340\n",
       "Tools                      119849500546\n",
       "Travel & Local              18541978772\n",
       "Trivia                       2207718907\n",
       "Video Players & Editors     31439400808\n",
       "Weather                      4625273209\n",
       "Word                         3463961703\n",
       "Name: Maximum Installs, dtype: int64"
      ]
     },
     "execution_count": 145,
     "metadata": {},
     "output_type": "execute_result"
    }
   ],
   "source": [
    "category_and_downloads"
   ]
  },
  {
   "cell_type": "code",
   "execution_count": 134,
   "id": "6ae08363",
   "metadata": {},
   "outputs": [
    {
     "data": {
      "image/png": "[encoded data removed]",
      "text/plain": [
       "<Figure size 720x432 with 1 Axes>"
      ]
     },
     "metadata": {
      "needs_background": "light"
     },
     "output_type": "display_data"
    }
   ],
   "source": [
    "sorted_category_and_downloads = category_and_downloads.sort_values().nlargest(10)\n",
    "sorted_category_and_downloads.plot(kind='bar', figsize=(10, 6))\n",
    "\n",
    "plt.xlabel('Тип приложения')\n",
    "plt.ylabel('Количество скачиваний')\n",
    "plt.title('Гистограмма количества скачиваний по категориям приложений')\n",
    "plt.grid(axis='y')\n",
    "plt.xticks(rotation=45, ha = \"right\")\n",
    "plt.show()"
   ]
  },
  {
   "cell_type": "markdown",
   "id": "d28c0b6c",
   "metadata": {},
   "source": [
    "### Ответ: наибольшей популярностью пользуются приложения категорий *Tools*, *Communication* и *Productivity*"
   ]
  },
  {
   "cell_type": "markdown",
   "id": "0fb76de9",
   "metadata": {},
   "source": [
    "# 6. Как распределены данные по рейтингу приложений?"
   ]
  },
  {
   "cell_type": "code",
   "execution_count": 144,
   "id": "cedb1328",
   "metadata": {},
   "outputs": [
    {
     "data": {
      "image/png": "[encoded data removed]",
      "text/plain": [
       "<Figure size 720x432 with 1 Axes>"
      ]
     },
     "metadata": {
      "needs_background": "light"
     },
     "output_type": "display_data"
    }
   ],
   "source": [
    "sorted_rating = dataset[\"Rating\"].value_counts().sort_index()\n",
    "sorted_rating.plot(kind='bar', figsize=(10, 6))\n",
    "plt.xlabel('Оценка')\n",
    "plt.ylabel('Количество приложений')\n",
    "plt.title('Гистограмма распределение рейтинга приложений')\n",
    "plt.grid(axis='y')\n",
    "plt.xticks(rotation=45, ha = \"right\")\n",
    "plt.show()"
   ]
  },
  {
   "cell_type": "markdown",
   "id": "204126df",
   "metadata": {},
   "source": [
    "Большая часть оценок принимает значение ноль"
   ]
  },
  {
   "cell_type": "code",
   "execution_count": 154,
   "id": "15562492",
   "metadata": {},
   "outputs": [
    {
     "data": {
      "image/png": "[encoded data removed]",
      "text/plain": [
       "<Figure size 720x432 with 1 Axes>"
      ]
     },
     "metadata": {
      "needs_background": "light"
     },
     "output_type": "display_data"
    },
    {
     "data": {
      "image/png": "[encoded data removed]",
      "text/plain": [
       "<Figure size 720x432 with 1 Axes>"
      ]
     },
     "metadata": {
      "needs_background": "light"
     },
     "output_type": "display_data"
    }
   ],
   "source": [
    "category_rating = dataset.groupby(\"Category\")\n",
    "rating = category_rating[\"Rating\"].mean()\n",
    "rating = rating.sort_values().nsmallest(10)\n",
    "rating.plot(kind='bar', figsize=(10, 6))\n",
    "plt.xlabel('Категория')\n",
    "plt.ylabel('Оценка')\n",
    "plt.title('Гистограмма распределение рейтинга приложений')\n",
    "plt.grid(axis='y')\n",
    "plt.xticks(rotation=45, ha = \"right\")\n",
    "plt.show()\n",
    "category_rating = dataset.groupby(\"Category\")\n",
    "rating = category_rating[\"Rating\"].mean()\n",
    "rating = rating.sort_values().nlargest(10)\n",
    "rating.plot(kind='bar', figsize=(10, 6))\n",
    "plt.xlabel('Категория')\n",
    "plt.ylabel('Оценка')\n",
    "plt.title('Гистограмма распределение рейтинга приложений')\n",
    "plt.grid(axis='y')\n",
    "plt.xticks(rotation=45, ha = \"right\")\n",
    "plt.show()"
   ]
  },
  {
   "cell_type": "markdown",
   "id": "191ac04e",
   "metadata": {},
   "source": [
    "**Ответ: большая часть оценок принимает значение нуля. Наибольший рейтинг принимают приложения категорий Role playing, Casino и Simulation, что может быть обьяснено лояльной аудиторией. Наименьшие оценки у приложений категорий Events, Food&Drink и Business. Предположу, что низкая оценка обусловлена репутационными и логистическими издержками, когда в неудаче конкретного блока компании винят приложение.**"
   ]
  },
  {
   "cell_type": "markdown",
   "id": "9e3362a8",
   "metadata": {},
   "source": [
    "# 7. Как бы вы охарактеризовали самое часто встречающееся значение в наборе данных, какое это приложение?"
   ]
  },
  {
   "cell_type": "markdown",
   "id": "5c2d2ca6",
   "metadata": {},
   "source": [
    "Вычислю самое часто встречающееся уникальное значение"
   ]
  },
  {
   "cell_type": "code",
   "execution_count": 156,
   "id": "d4414b9a",
   "metadata": {},
   "outputs": [
    {
     "data": {
      "text/plain": [
       "'Tic Tac Toe'"
      ]
     },
     "execution_count": 156,
     "metadata": {},
     "output_type": "execute_result"
    }
   ],
   "source": [
    "value = dataset[\"App Name\"].value_counts().idxmax()\n",
    "value"
   ]
  },
  {
   "cell_type": "code",
   "execution_count": 160,
   "id": "5c71e92f",
   "metadata": {},
   "outputs": [
    {
     "data": {
      "image/png": "[encoded data removed]",
      "text/plain": [
       "<Figure size 720x432 with 1 Axes>"
      ]
     },
     "metadata": {
      "needs_background": "light"
     },
     "output_type": "display_data"
    }
   ],
   "source": [
    "value = dataset[\"App Name\"].value_counts().nlargest(10)\n",
    "value.plot(kind='bar', figsize=(10, 6))\n",
    "plt.xlabel('Категория')\n",
    "plt.ylabel('Оценка')\n",
    "plt.title('Гистограмма распределение рейтинга приложений')\n",
    "plt.grid(axis='y')\n",
    "plt.xticks(rotation=45, ha = \"right\")\n",
    "plt.show()"
   ]
  },
  {
   "cell_type": "markdown",
   "id": "95fe77b4",
   "metadata": {},
   "source": [
    "**Ответ: Наиболее встречающимися значениями оказались *Tic Tac Toe, Calculator, Flashlight*. Самое частое значение является простейшей в реализации гиперказуальной игрой, чем и обусловлена её популярность у разработчиков и потребителей**"
   ]
  },
  {
   "cell_type": "markdown",
   "id": "08a6c91f",
   "metadata": {},
   "source": [
    "# 8. Есть ли зависимость категории приложения от рейтинга приложения?"
   ]
  },
  {
   "cell_type": "markdown",
   "id": "54e0b360",
   "metadata": {},
   "source": [
    "Частично ответ на этот вопрос дан в ответе на шестой в виде графика средних оценок приложений у отдельных категорий, где наибольшими оценками обладали *Role Playing*, *Casino* и *Simulation*, а наименьшими — *Events*, *Food&Drunk* и *Buisness*"
   ]
  },
  {
   "cell_type": "markdown",
   "id": "4168ef05",
   "metadata": {},
   "source": [
    "Для выяснения зависимости найду корреляцию между категорией и рейтингом"
   ]
  },
  {
   "cell_type": "markdown",
   "id": "181028d2",
   "metadata": {},
   "source": [
    "Преобразую значение столбца Category в числа, соответствующие каждой категории"
   ]
  },
  {
   "cell_type": "code",
   "execution_count": 174,
   "id": "f94e1384",
   "metadata": {},
   "outputs": [
    {
     "data": {
      "text/html": [
       "<div>\n",
       "<style scoped>\n",
       "    .dataframe tbody tr th:only-of-type {\n",
       "        vertical-align: middle;\n",
       "    }\n",
       "\n",
       "    .dataframe tbody tr th {\n",
       "        vertical-align: top;\n",
       "    }\n",
       "\n",
       "    .dataframe thead th {\n",
       "        text-align: right;\n",
       "    }\n",
       "</style>\n",
       "<table border=\"1\" class=\"dataframe\">\n",
       "  <thead>\n",
       "    <tr style=\"text-align: right;\">\n",
       "      <th></th>\n",
       "      <th>Category ID</th>\n",
       "      <th>Rating</th>\n",
       "    </tr>\n",
       "  </thead>\n",
       "  <tbody>\n",
       "    <tr>\n",
       "      <th>Category ID</th>\n",
       "      <td>1.000000</td>\n",
       "      <td>0.017455</td>\n",
       "    </tr>\n",
       "    <tr>\n",
       "      <th>Rating</th>\n",
       "      <td>0.017455</td>\n",
       "      <td>1.000000</td>\n",
       "    </tr>\n",
       "  </tbody>\n",
       "</table>\n",
       "</div>"
      ],
      "text/plain": [
       "             Category ID    Rating\n",
       "Category ID     1.000000  0.017455\n",
       "Rating          0.017455  1.000000"
      ]
     },
     "execution_count": 174,
     "metadata": {},
     "output_type": "execute_result"
    },
    {
     "data": {
      "image/png": "[encoded data removed]",
      "text/plain": [
       "<Figure size 720x360 with 2 Axes>"
      ]
     },
     "metadata": {
      "needs_background": "light"
     },
     "output_type": "display_data"
    }
   ],
   "source": [
    "plt.figure(figsize=(10,5))\n",
    "dataset[\"Category ID\"] = pd.factorize(dataset['Category'])[0]\n",
    "correlation = dataset[[\"Category ID\", \"Rating\"]].corr()\n",
    "sns.heatmap(c, cmap=\"BrBG\", annot=True)\n",
    "correlation"
   ]
  },
  {
   "cell_type": "markdown",
   "id": "ee87d75d",
   "metadata": {},
   "source": [
    "***Ответ : кореляция отсутствует***"
   ]
  },
  {
   "cell_type": "markdown",
   "id": "f8bb0b00",
   "metadata": {},
   "source": [
    "# 9. Как расперделены оценки (рейтинги) приложений?"
   ]
  },
  {
   "cell_type": "markdown",
   "id": "8052e9cb",
   "metadata": {},
   "source": [
    "**Ответ: ответ на девятый вопрос содержится в шестом**"
   ]
  },
  {
   "cell_type": "markdown",
   "id": "3b1b96e3",
   "metadata": {},
   "source": [
    "# 10. Как кореллируют между собой рейтинг и количество скачиваний приложения?"
   ]
  },
  {
   "cell_type": "code",
   "execution_count": 175,
   "id": "0232504d",
   "metadata": {},
   "outputs": [
    {
     "data": {
      "text/html": [
       "<div>\n",
       "<style scoped>\n",
       "    .dataframe tbody tr th:only-of-type {\n",
       "        vertical-align: middle;\n",
       "    }\n",
       "\n",
       "    .dataframe tbody tr th {\n",
       "        vertical-align: top;\n",
       "    }\n",
       "\n",
       "    .dataframe thead th {\n",
       "        text-align: right;\n",
       "    }\n",
       "</style>\n",
       "<table border=\"1\" class=\"dataframe\">\n",
       "  <thead>\n",
       "    <tr style=\"text-align: right;\">\n",
       "      <th></th>\n",
       "      <th>Rating</th>\n",
       "      <th>Maximum Installs</th>\n",
       "      <th>Minimum Installs</th>\n",
       "    </tr>\n",
       "  </thead>\n",
       "  <tbody>\n",
       "    <tr>\n",
       "      <th>Rating</th>\n",
       "      <td>1.000000</td>\n",
       "      <td>0.012671</td>\n",
       "      <td>0.011269</td>\n",
       "    </tr>\n",
       "    <tr>\n",
       "      <th>Maximum Installs</th>\n",
       "      <td>0.012671</td>\n",
       "      <td>1.000000</td>\n",
       "      <td>0.954037</td>\n",
       "    </tr>\n",
       "    <tr>\n",
       "      <th>Minimum Installs</th>\n",
       "      <td>0.011269</td>\n",
       "      <td>0.954037</td>\n",
       "      <td>1.000000</td>\n",
       "    </tr>\n",
       "  </tbody>\n",
       "</table>\n",
       "</div>"
      ],
      "text/plain": [
       "                    Rating  Maximum Installs  Minimum Installs\n",
       "Rating            1.000000          0.012671          0.011269\n",
       "Maximum Installs  0.012671          1.000000          0.954037\n",
       "Minimum Installs  0.011269          0.954037          1.000000"
      ]
     },
     "execution_count": 175,
     "metadata": {},
     "output_type": "execute_result"
    },
    {
     "data": {
      "image/png": "[encoded data removed]",
      "text/plain": [
       "<Figure size 720x360 with 2 Axes>"
      ]
     },
     "metadata": {
      "needs_background": "light"
     },
     "output_type": "display_data"
    }
   ],
   "source": [
    "plt.figure(figsize=(10,5))\n",
    "correlation = dataset[[\"Rating\", \"Maximum Installs\", \"Minimum Installs\"]].corr()\n",
    "sns.heatmap(correlation, cmap=\"BrBG\", annot=True)\n",
    "correlation"
   ]
  },
  {
   "cell_type": "markdown",
   "id": "9fae5d96",
   "metadata": {},
   "source": [
    "**Ответ: Корреляция между рейтингом и количеством установок отсутствует**"
   ]
  },
  {
   "cell_type": "code",
   "execution_count": null,
   "id": "f32d66f0",
   "metadata": {},
   "outputs": [],
   "source": []
  }
 ],
 "metadata": {
  "kernelspec": {
   "display_name": "Python 3 (ipykernel)",
   "language": "python",
   "name": "python3"
  },
  "language_info": {
   "codemirror_mode": {
    "name": "ipython",
    "version": 3
   },
   "file_extension": ".py",
   "mimetype": "text/x-python",
   "name": "python",
   "nbconvert_exporter": "python",
   "pygments_lexer": "ipython3",
   "version": "3.9.7"
  }
 },
 "nbformat": 4,
 "nbformat_minor": 5
}
